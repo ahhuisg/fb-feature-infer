{
 "cells": [
  {
   "cell_type": "code",
   "execution_count": 26,
   "id": "29f667b3",
   "metadata": {},
   "outputs": [],
   "source": [
    "import os\n",
    "import sys\n",
    "module_path = os.path.abspath(os.path.join('..'))\n",
    "if module_path not in sys.path:\n",
    "    sys.path.append(module_path)"
   ]
  },
  {
   "cell_type": "code",
   "execution_count": 27,
   "id": "771e3462",
   "metadata": {},
   "outputs": [
    {
     "name": "stderr",
     "output_type": "stream",
     "text": [
      "[nltk_data] Downloading package stopwords to\n",
      "[nltk_data]     /Users/chenyanhui/nltk_data...\n",
      "[nltk_data]   Package stopwords is already up-to-date!\n"
     ]
    },
    {
     "data": {
      "text/plain": [
       "True"
      ]
     },
     "execution_count": 27,
     "metadata": {},
     "output_type": "execute_result"
    }
   ],
   "source": [
    "import nltk\n",
    "\n",
    "nltk.download('stopwords')"
   ]
  },
  {
   "cell_type": "code",
   "execution_count": 28,
   "id": "e3b9f9c1",
   "metadata": {},
   "outputs": [
    {
     "name": "stdout",
     "output_type": "stream",
     "text": [
      "The autoreload extension is already loaded. To reload it, use:\n",
      "  %reload_ext autoreload\n"
     ]
    }
   ],
   "source": [
    "import pandas as pd\n",
    "import joblib\n",
    "\n",
    "from datazoo.model import ZooRandomForest\n",
    "from datazoo.featurize import ZooFeaturizer\n",
    "\n",
    "%load_ext autoreload\n",
    "%autoreload 2"
   ]
  },
  {
   "cell_type": "markdown",
   "id": "c3bfb994",
   "metadata": {},
   "source": [
    "# Prepare Data"
   ]
  },
  {
   "cell_type": "code",
   "execution_count": 29,
   "id": "d2c9a403",
   "metadata": {},
   "outputs": [
    {
     "name": "stdout",
     "output_type": "stream",
     "text": [
      "7936\n"
     ]
    }
   ],
   "source": [
    "dict_label = {\n",
    "    'numeric': 0,\n",
    "    'categorical': 1,\n",
    "    'datetime': 2,\n",
    "    'sentence': 3,\n",
    "    'url': 4,\n",
    "    'embedded-number': 5,\n",
    "    'list': 6,\n",
    "    'not-generalizable': 7,\n",
    "    'context-specific': 8\n",
    "}\n",
    "\n",
    "\n",
    "x_train = pd.read_csv('../data/ml/data_train.csv')\n",
    "x_test = pd.read_csv('../data/ml/data_test.csv')\n",
    "\n",
    "\n",
    "x_train = x_train.sample(frac=1,random_state=100).reset_index(drop=True)\n",
    "print(len(x_train))\n",
    "\n",
    "y_train = x_train.loc[:,['y_act']]\n",
    "y_test = x_test.loc[:,['y_act']]\n",
    "\n",
    "y_train['y_act'] = [dict_label[i] for i in y_train['y_act']]\n",
    "y_test['y_act'] = [dict_label[i] for i in y_test['y_act']]"
   ]
  },
  {
   "cell_type": "markdown",
   "id": "ab01340e",
   "metadata": {},
   "source": [
    "# Train and Test Model"
   ]
  },
  {
   "cell_type": "code",
   "execution_count": 30,
   "id": "e87c0cfc",
   "metadata": {},
   "outputs": [],
   "source": [
    "model = ZooRandomForest()"
   ]
  },
  {
   "cell_type": "code",
   "execution_count": 31,
   "id": "bd13182c",
   "metadata": {
    "scrolled": false
   },
   "outputs": [
    {
     "name": "stderr",
     "output_type": "stream",
     "text": [
      "[W 220321 21:52:39 base:44] vectorizer not fitted yet\n",
      "[I 220321 21:52:39 base:28] vectorizer not fitted. Doing fit and transform\n",
      "[I 220321 21:52:40 base:36] total length of from feature extraction: 7936\n"
     ]
    },
    {
     "name": "stdout",
     "output_type": "stream",
     "text": [
      "Fitting 5 folds for each of 16 candidates, totalling 80 fits\n"
     ]
    },
    {
     "name": "stderr",
     "output_type": "stream",
     "text": [
      "/Users/chenyanhui/opt/anaconda3/envs/data-zoo1/lib/python3.7/site-packages/sklearn/utils/validation.py:1692: FutureWarning: Feature names only support names that are all strings. Got feature names with dtypes: ['int', 'str']. An error will be raised in 1.2.\n",
      "  FutureWarning,\n",
      "[I 220321 21:53:31 random_forest:28] best params: {'bootstrap': True, 'max_depth': 250, 'n_estimators': 500}\n"
     ]
    }
   ],
   "source": [
    "model.fit(x_train, y_train)"
   ]
  },
  {
   "cell_type": "code",
   "execution_count": 32,
   "id": "96aedbdf",
   "metadata": {},
   "outputs": [
    {
     "name": "stderr",
     "output_type": "stream",
     "text": [
      "[I 220321 21:53:31 base:25] vectorizer already fitted. Doing transform\n",
      "[I 220321 21:53:31 base:36] total length of from feature extraction: 1985\n",
      "/Users/chenyanhui/opt/anaconda3/envs/data-zoo1/lib/python3.7/site-packages/sklearn/utils/validation.py:1692: FutureWarning: Feature names only support names that are all strings. Got feature names with dtypes: ['int', 'str']. An error will be raised in 1.2.\n",
      "  FutureWarning,\n"
     ]
    },
    {
     "data": {
      "text/plain": [
       "0.9355163727959698"
      ]
     },
     "execution_count": 32,
     "metadata": {},
     "output_type": "execute_result"
    }
   ],
   "source": [
    "model.score(x_test, y_test, training=True)"
   ]
  },
  {
   "cell_type": "code",
   "execution_count": 33,
   "id": "0f40f44c",
   "metadata": {},
   "outputs": [
    {
     "data": {
      "text/plain": [
       "['../artifacts/model_rf.joblib']"
      ]
     },
     "execution_count": 33,
     "metadata": {},
     "output_type": "execute_result"
    }
   ],
   "source": [
    "joblib.dump(model, '../artifacts/model_rf.joblib')"
   ]
  },
  {
   "cell_type": "markdown",
   "id": "5140dca8",
   "metadata": {},
   "source": [
    "# Test Model with Featurizer for Input Raw Feature Files"
   ]
  },
  {
   "cell_type": "code",
   "execution_count": 34,
   "id": "f9275459",
   "metadata": {},
   "outputs": [],
   "source": [
    "fe = ZooFeaturizer(model.vectorizer)"
   ]
  },
  {
   "cell_type": "code",
   "execution_count": 35,
   "id": "f3d0be11",
   "metadata": {},
   "outputs": [
    {
     "data": {
      "text/plain": [
       "['../artifacts/featurizer.joblib']"
      ]
     },
     "execution_count": 35,
     "metadata": {},
     "output_type": "execute_result"
    }
   ],
   "source": [
    "joblib.dump(fe, '../artifacts/featurizer.joblib')"
   ]
  },
  {
   "cell_type": "code",
   "execution_count": 36,
   "id": "a3cb525b",
   "metadata": {},
   "outputs": [
    {
     "data": {
      "text/html": [
       "<div>\n",
       "<style scoped>\n",
       "    .dataframe tbody tr th:only-of-type {\n",
       "        vertical-align: middle;\n",
       "    }\n",
       "\n",
       "    .dataframe tbody tr th {\n",
       "        vertical-align: top;\n",
       "    }\n",
       "\n",
       "    .dataframe thead th {\n",
       "        text-align: right;\n",
       "    }\n",
       "</style>\n",
       "<table border=\"1\" class=\"dataframe\">\n",
       "  <thead>\n",
       "    <tr style=\"text-align: right;\">\n",
       "      <th></th>\n",
       "      <th>Judge</th>\n",
       "      <th>Official</th>\n",
       "      <th>Round</th>\n",
       "      <th>Winner</th>\n",
       "    </tr>\n",
       "  </thead>\n",
       "  <tbody>\n",
       "    <tr>\n",
       "      <th>0</th>\n",
       "      <td>G._Hamada</td>\n",
       "      <td>Yes</td>\n",
       "      <td>1</td>\n",
       "      <td>de_la_Hoya</td>\n",
       "    </tr>\n",
       "    <tr>\n",
       "      <th>1</th>\n",
       "      <td>G._Hamada</td>\n",
       "      <td>Yes</td>\n",
       "      <td>2</td>\n",
       "      <td>Trinidad</td>\n",
       "    </tr>\n",
       "    <tr>\n",
       "      <th>2</th>\n",
       "      <td>G._Hamada</td>\n",
       "      <td>Yes</td>\n",
       "      <td>3</td>\n",
       "      <td>de_la_Hoya</td>\n",
       "    </tr>\n",
       "    <tr>\n",
       "      <th>3</th>\n",
       "      <td>G._Hamada</td>\n",
       "      <td>Yes</td>\n",
       "      <td>4</td>\n",
       "      <td>Trinidad</td>\n",
       "    </tr>\n",
       "    <tr>\n",
       "      <th>4</th>\n",
       "      <td>G._Hamada</td>\n",
       "      <td>Yes</td>\n",
       "      <td>5</td>\n",
       "      <td>de_la_Hoya</td>\n",
       "    </tr>\n",
       "    <tr>\n",
       "      <th>...</th>\n",
       "      <td>...</td>\n",
       "      <td>...</td>\n",
       "      <td>...</td>\n",
       "      <td>...</td>\n",
       "    </tr>\n",
       "    <tr>\n",
       "      <th>127</th>\n",
       "      <td>van_de_Wiele</td>\n",
       "      <td>No</td>\n",
       "      <td>8</td>\n",
       "      <td>de_la_Hoya</td>\n",
       "    </tr>\n",
       "    <tr>\n",
       "      <th>128</th>\n",
       "      <td>van_de_Wiele</td>\n",
       "      <td>No</td>\n",
       "      <td>9</td>\n",
       "      <td>Trinidad</td>\n",
       "    </tr>\n",
       "    <tr>\n",
       "      <th>129</th>\n",
       "      <td>van_de_Wiele</td>\n",
       "      <td>No</td>\n",
       "      <td>10</td>\n",
       "      <td>Trinidad</td>\n",
       "    </tr>\n",
       "    <tr>\n",
       "      <th>130</th>\n",
       "      <td>van_de_Wiele</td>\n",
       "      <td>No</td>\n",
       "      <td>11</td>\n",
       "      <td>Trinidad</td>\n",
       "    </tr>\n",
       "    <tr>\n",
       "      <th>131</th>\n",
       "      <td>van_de_Wiele</td>\n",
       "      <td>No</td>\n",
       "      <td>12</td>\n",
       "      <td>Trinidad</td>\n",
       "    </tr>\n",
       "  </tbody>\n",
       "</table>\n",
       "<p>132 rows × 4 columns</p>\n",
       "</div>"
      ],
      "text/plain": [
       "            Judge Official  Round      Winner\n",
       "0       G._Hamada      Yes      1  de_la_Hoya\n",
       "1       G._Hamada      Yes      2    Trinidad\n",
       "2       G._Hamada      Yes      3  de_la_Hoya\n",
       "3       G._Hamada      Yes      4    Trinidad\n",
       "4       G._Hamada      Yes      5  de_la_Hoya\n",
       "..            ...      ...    ...         ...\n",
       "127  van_de_Wiele       No      8  de_la_Hoya\n",
       "128  van_de_Wiele       No      9    Trinidad\n",
       "129  van_de_Wiele       No     10    Trinidad\n",
       "130  van_de_Wiele       No     11    Trinidad\n",
       "131  van_de_Wiele       No     12    Trinidad\n",
       "\n",
       "[132 rows x 4 columns]"
      ]
     },
     "execution_count": 36,
     "metadata": {},
     "output_type": "execute_result"
    }
   ],
   "source": [
    "#raw_data = pd.read_csv('../data/datasets/accident.csv')\n",
    "#raw_data = pd.read_csv('../data/datasets/bbc.csv')\n",
    "raw_data = pd.read_csv('../data/datasets/boxing.csv')\n",
    "raw_data"
   ]
  },
  {
   "cell_type": "code",
   "execution_count": 37,
   "id": "c248a380",
   "metadata": {},
   "outputs": [
    {
     "name": "stderr",
     "output_type": "stream",
     "text": [
      "[I 220321 21:54:35 base:25] vectorizer already fitted. Doing transform\n",
      "[I 220321 21:54:35 base:36] total length of from feature extraction: 4\n"
     ]
    },
    {
     "data": {
      "text/html": [
       "<div>\n",
       "<style scoped>\n",
       "    .dataframe tbody tr th:only-of-type {\n",
       "        vertical-align: middle;\n",
       "    }\n",
       "\n",
       "    .dataframe tbody tr th {\n",
       "        vertical-align: top;\n",
       "    }\n",
       "\n",
       "    .dataframe thead th {\n",
       "        text-align: right;\n",
       "    }\n",
       "</style>\n",
       "<table border=\"1\" class=\"dataframe\">\n",
       "  <thead>\n",
       "    <tr style=\"text-align: right;\">\n",
       "      <th></th>\n",
       "      <th>total_vals</th>\n",
       "      <th>num_nans</th>\n",
       "      <th>%_nans</th>\n",
       "      <th>num_of_dist_val</th>\n",
       "      <th>%_dist_val</th>\n",
       "      <th>mean</th>\n",
       "      <th>std_dev</th>\n",
       "      <th>min_val</th>\n",
       "      <th>max_val</th>\n",
       "      <th>has_delimiters</th>\n",
       "      <th>...</th>\n",
       "      <th>1443</th>\n",
       "      <th>1444</th>\n",
       "      <th>1445</th>\n",
       "      <th>1446</th>\n",
       "      <th>1447</th>\n",
       "      <th>1448</th>\n",
       "      <th>1449</th>\n",
       "      <th>1450</th>\n",
       "      <th>1451</th>\n",
       "      <th>1452</th>\n",
       "    </tr>\n",
       "  </thead>\n",
       "  <tbody>\n",
       "    <tr>\n",
       "      <th>0</th>\n",
       "      <td>132</td>\n",
       "      <td>0</td>\n",
       "      <td>8.333333</td>\n",
       "      <td>11</td>\n",
       "      <td>8.333333</td>\n",
       "      <td>0.0</td>\n",
       "      <td>0.000000</td>\n",
       "      <td>0.0</td>\n",
       "      <td>0.0</td>\n",
       "      <td>False</td>\n",
       "      <td>...</td>\n",
       "      <td>0</td>\n",
       "      <td>0</td>\n",
       "      <td>0</td>\n",
       "      <td>0</td>\n",
       "      <td>0</td>\n",
       "      <td>0</td>\n",
       "      <td>0</td>\n",
       "      <td>0</td>\n",
       "      <td>0</td>\n",
       "      <td>0</td>\n",
       "    </tr>\n",
       "    <tr>\n",
       "      <th>1</th>\n",
       "      <td>132</td>\n",
       "      <td>0</td>\n",
       "      <td>1.515152</td>\n",
       "      <td>2</td>\n",
       "      <td>1.515152</td>\n",
       "      <td>0.0</td>\n",
       "      <td>0.000000</td>\n",
       "      <td>0.0</td>\n",
       "      <td>0.0</td>\n",
       "      <td>False</td>\n",
       "      <td>...</td>\n",
       "      <td>0</td>\n",
       "      <td>0</td>\n",
       "      <td>0</td>\n",
       "      <td>0</td>\n",
       "      <td>0</td>\n",
       "      <td>0</td>\n",
       "      <td>0</td>\n",
       "      <td>0</td>\n",
       "      <td>0</td>\n",
       "      <td>0</td>\n",
       "    </tr>\n",
       "    <tr>\n",
       "      <th>2</th>\n",
       "      <td>132</td>\n",
       "      <td>0</td>\n",
       "      <td>9.090909</td>\n",
       "      <td>12</td>\n",
       "      <td>9.090909</td>\n",
       "      <td>6.5</td>\n",
       "      <td>3.452053</td>\n",
       "      <td>1.0</td>\n",
       "      <td>12.0</td>\n",
       "      <td>False</td>\n",
       "      <td>...</td>\n",
       "      <td>0</td>\n",
       "      <td>0</td>\n",
       "      <td>0</td>\n",
       "      <td>0</td>\n",
       "      <td>0</td>\n",
       "      <td>0</td>\n",
       "      <td>0</td>\n",
       "      <td>0</td>\n",
       "      <td>0</td>\n",
       "      <td>0</td>\n",
       "    </tr>\n",
       "    <tr>\n",
       "      <th>3</th>\n",
       "      <td>132</td>\n",
       "      <td>0</td>\n",
       "      <td>1.515152</td>\n",
       "      <td>2</td>\n",
       "      <td>1.515152</td>\n",
       "      <td>0.0</td>\n",
       "      <td>0.000000</td>\n",
       "      <td>0.0</td>\n",
       "      <td>0.0</td>\n",
       "      <td>False</td>\n",
       "      <td>...</td>\n",
       "      <td>0</td>\n",
       "      <td>0</td>\n",
       "      <td>0</td>\n",
       "      <td>0</td>\n",
       "      <td>0</td>\n",
       "      <td>0</td>\n",
       "      <td>0</td>\n",
       "      <td>0</td>\n",
       "      <td>0</td>\n",
       "      <td>0</td>\n",
       "    </tr>\n",
       "  </tbody>\n",
       "</table>\n",
       "<p>4 rows × 1478 columns</p>\n",
       "</div>"
      ],
      "text/plain": [
       "   total_vals  num_nans    %_nans  num_of_dist_val  %_dist_val  mean  \\\n",
       "0         132         0  8.333333               11    8.333333   0.0   \n",
       "1         132         0  1.515152                2    1.515152   0.0   \n",
       "2         132         0  9.090909               12    9.090909   6.5   \n",
       "3         132         0  1.515152                2    1.515152   0.0   \n",
       "\n",
       "    std_dev  min_val  max_val  has_delimiters  ...  1443  1444  1445  1446  \\\n",
       "0  0.000000      0.0      0.0           False  ...     0     0     0     0   \n",
       "1  0.000000      0.0      0.0           False  ...     0     0     0     0   \n",
       "2  3.452053      1.0     12.0           False  ...     0     0     0     0   \n",
       "3  0.000000      0.0      0.0           False  ...     0     0     0     0   \n",
       "\n",
       "   1447  1448  1449  1450  1451  1452  \n",
       "0     0     0     0     0     0     0  \n",
       "1     0     0     0     0     0     0  \n",
       "2     0     0     0     0     0     0  \n",
       "3     0     0     0     0     0     0  \n",
       "\n",
       "[4 rows x 1478 columns]"
      ]
     },
     "execution_count": 37,
     "metadata": {},
     "output_type": "execute_result"
    }
   ],
   "source": [
    "data_featurized = fe.featurize(raw_data)\n",
    "data_featurized"
   ]
  },
  {
   "cell_type": "code",
   "execution_count": 38,
   "id": "c0591b41",
   "metadata": {},
   "outputs": [
    {
     "name": "stderr",
     "output_type": "stream",
     "text": [
      "/Users/chenyanhui/opt/anaconda3/envs/data-zoo1/lib/python3.7/site-packages/sklearn/utils/validation.py:1692: FutureWarning: Feature names only support names that are all strings. Got feature names with dtypes: ['int', 'str']. An error will be raised in 1.2.\n",
      "  FutureWarning,\n"
     ]
    },
    {
     "data": {
      "text/plain": [
       "[1, 1, 0, 1]"
      ]
     },
     "execution_count": 38,
     "metadata": {},
     "output_type": "execute_result"
    }
   ],
   "source": [
    "y_rf = model.predict(data_featurized).tolist()\n",
    "y_rf"
   ]
  },
  {
   "cell_type": "code",
   "execution_count": 39,
   "id": "689abd6e",
   "metadata": {},
   "outputs": [
    {
     "name": "stdout",
     "output_type": "stream",
     "text": [
      "Column:  Judge\n",
      "Type: categorical\n",
      "\n",
      "Column:  Official\n",
      "Type: categorical\n",
      "\n",
      "Column:  Round\n",
      "Type: numeric\n",
      "\n",
      "Column:  Winner\n",
      "Type: categorical\n",
      "\n",
      "[CV] END ......bootstrap=True, max_depth=10, n_estimators=25; total time=   1.0s\n",
      "[CV] END .....bootstrap=True, max_depth=10, n_estimators=100; total time=   1.7s\n",
      "[CV] END ......bootstrap=True, max_depth=50, n_estimators=25; total time=   1.4s\n",
      "[CV] END ......bootstrap=True, max_depth=50, n_estimators=50; total time=   2.0s\n",
      "[CV] END .....bootstrap=True, max_depth=50, n_estimators=100; total time=   3.2s\n",
      "[CV] END .....bootstrap=True, max_depth=100, n_estimators=25; total time=   1.4s\n",
      "[CV] END .....bootstrap=True, max_depth=100, n_estimators=50; total time=   2.1s\n",
      "[CV] END ....bootstrap=True, max_depth=100, n_estimators=100; total time=   3.5s\n",
      "[CV] END ....bootstrap=True, max_depth=100, n_estimators=500; total time=  13.6s\n",
      "[CV] END ......bootstrap=True, max_depth=10, n_estimators=50; total time=   1.4s\n",
      "[CV] END .....bootstrap=True, max_depth=10, n_estimators=500; total time=   4.7s\n",
      "[CV] END .....bootstrap=True, max_depth=50, n_estimators=100; total time=   3.4s\n",
      "[CV] END .....bootstrap=True, max_depth=100, n_estimators=25; total time=   1.5s\n",
      "[CV] END .....bootstrap=True, max_depth=100, n_estimators=50; total time=   2.1s\n",
      "[CV] END ....bootstrap=True, max_depth=100, n_estimators=100; total time=   3.4s\n",
      "[CV] END ....bootstrap=True, max_depth=100, n_estimators=500; total time=  13.7s\n"
     ]
    },
    {
     "name": "stderr",
     "output_type": "stream",
     "text": [
      "/Users/chenyanhui/opt/anaconda3/envs/data-zoo1/lib/python3.7/site-packages/sklearn/utils/validation.py:1692: FutureWarning: Feature names only support names that are all strings. Got feature names with dtypes: ['int', 'str']. An error will be raised in 1.2.\n",
      "  FutureWarning,\n",
      "/Users/chenyanhui/opt/anaconda3/envs/data-zoo1/lib/python3.7/site-packages/sklearn/utils/validation.py:1692: FutureWarning: Feature names only support names that are all strings. Got feature names with dtypes: ['int', 'str']. An error will be raised in 1.2.\n",
      "  FutureWarning,\n",
      "/Users/chenyanhui/opt/anaconda3/envs/data-zoo1/lib/python3.7/site-packages/sklearn/utils/validation.py:1692: FutureWarning: Feature names only support names that are all strings. Got feature names with dtypes: ['int', 'str']. An error will be raised in 1.2.\n",
      "  FutureWarning,\n",
      "/Users/chenyanhui/opt/anaconda3/envs/data-zoo1/lib/python3.7/site-packages/sklearn/utils/validation.py:1692: FutureWarning: Feature names only support names that are all strings. Got feature names with dtypes: ['int', 'str']. An error will be raised in 1.2.\n",
      "  FutureWarning,\n",
      "/Users/chenyanhui/opt/anaconda3/envs/data-zoo1/lib/python3.7/site-packages/sklearn/utils/validation.py:1692: FutureWarning: Feature names only support names that are all strings. Got feature names with dtypes: ['int', 'str']. An error will be raised in 1.2.\n",
      "  FutureWarning,\n",
      "/Users/chenyanhui/opt/anaconda3/envs/data-zoo1/lib/python3.7/site-packages/sklearn/utils/validation.py:1692: FutureWarning: Feature names only support names that are all strings. Got feature names with dtypes: ['int', 'str']. An error will be raised in 1.2.\n",
      "  FutureWarning,\n",
      "/Users/chenyanhui/opt/anaconda3/envs/data-zoo1/lib/python3.7/site-packages/sklearn/utils/validation.py:1692: FutureWarning: Feature names only support names that are all strings. Got feature names with dtypes: ['int', 'str']. An error will be raised in 1.2.\n",
      "  FutureWarning,\n",
      "/Users/chenyanhui/opt/anaconda3/envs/data-zoo1/lib/python3.7/site-packages/sklearn/utils/validation.py:1692: FutureWarning: Feature names only support names that are all strings. Got feature names with dtypes: ['int', 'str']. An error will be raised in 1.2.\n",
      "  FutureWarning,\n",
      "/Users/chenyanhui/opt/anaconda3/envs/data-zoo1/lib/python3.7/site-packages/sklearn/utils/validation.py:1692: FutureWarning: Feature names only support names that are all strings. Got feature names with dtypes: ['int', 'str']. An error will be raised in 1.2.\n",
      "  FutureWarning,\n",
      "/Users/chenyanhui/opt/anaconda3/envs/data-zoo1/lib/python3.7/site-packages/sklearn/utils/validation.py:1692: FutureWarning: Feature names only support names that are all strings. Got feature names with dtypes: ['int', 'str']. An error will be raised in 1.2.\n",
      "  FutureWarning,\n",
      "/Users/chenyanhui/opt/anaconda3/envs/data-zoo1/lib/python3.7/site-packages/sklearn/utils/validation.py:1692: FutureWarning: Feature names only support names that are all strings. Got feature names with dtypes: ['int', 'str']. An error will be raised in 1.2.\n",
      "  FutureWarning,\n",
      "/Users/chenyanhui/opt/anaconda3/envs/data-zoo1/lib/python3.7/site-packages/sklearn/utils/validation.py:1692: FutureWarning: Feature names only support names that are all strings. Got feature names with dtypes: ['int', 'str']. An error will be raised in 1.2.\n",
      "  FutureWarning,\n",
      "/Users/chenyanhui/opt/anaconda3/envs/data-zoo1/lib/python3.7/site-packages/sklearn/utils/validation.py:1692: FutureWarning: Feature names only support names that are all strings. Got feature names with dtypes: ['int', 'str']. An error will be raised in 1.2.\n",
      "  FutureWarning,\n",
      "/Users/chenyanhui/opt/anaconda3/envs/data-zoo1/lib/python3.7/site-packages/sklearn/utils/validation.py:1692: FutureWarning: Feature names only support names that are all strings. Got feature names with dtypes: ['int', 'str']. An error will be raised in 1.2.\n",
      "  FutureWarning,\n",
      "/Users/chenyanhui/opt/anaconda3/envs/data-zoo1/lib/python3.7/site-packages/sklearn/utils/validation.py:1692: FutureWarning: Feature names only support names that are all strings. Got feature names with dtypes: ['int', 'str']. An error will be raised in 1.2.\n",
      "  FutureWarning,\n",
      "/Users/chenyanhui/opt/anaconda3/envs/data-zoo1/lib/python3.7/site-packages/sklearn/utils/validation.py:1692: FutureWarning: Feature names only support names that are all strings. Got feature names with dtypes: ['int', 'str']. An error will be raised in 1.2.\n",
      "  FutureWarning,\n",
      "/Users/chenyanhui/opt/anaconda3/envs/data-zoo1/lib/python3.7/site-packages/sklearn/utils/validation.py:1692: FutureWarning: Feature names only support names that are all strings. Got feature names with dtypes: ['int', 'str']. An error will be raised in 1.2.\n",
      "  FutureWarning,\n",
      "/Users/chenyanhui/opt/anaconda3/envs/data-zoo1/lib/python3.7/site-packages/sklearn/utils/validation.py:1692: FutureWarning: Feature names only support names that are all strings. Got feature names with dtypes: ['int', 'str']. An error will be raised in 1.2.\n",
      "  FutureWarning,\n",
      "/Users/chenyanhui/opt/anaconda3/envs/data-zoo1/lib/python3.7/site-packages/sklearn/utils/validation.py:1692: FutureWarning: Feature names only support names that are all strings. Got feature names with dtypes: ['int', 'str']. An error will be raised in 1.2.\n",
      "  FutureWarning,\n",
      "/Users/chenyanhui/opt/anaconda3/envs/data-zoo1/lib/python3.7/site-packages/sklearn/utils/validation.py:1692: FutureWarning: Feature names only support names that are all strings. Got feature names with dtypes: ['int', 'str']. An error will be raised in 1.2.\n",
      "  FutureWarning,\n",
      "/Users/chenyanhui/opt/anaconda3/envs/data-zoo1/lib/python3.7/site-packages/sklearn/utils/validation.py:1692: FutureWarning: Feature names only support names that are all strings. Got feature names with dtypes: ['int', 'str']. An error will be raised in 1.2.\n",
      "  FutureWarning,\n",
      "/Users/chenyanhui/opt/anaconda3/envs/data-zoo1/lib/python3.7/site-packages/sklearn/utils/validation.py:1692: FutureWarning: Feature names only support names that are all strings. Got feature names with dtypes: ['int', 'str']. An error will be raised in 1.2.\n",
      "  FutureWarning,\n",
      "/Users/chenyanhui/opt/anaconda3/envs/data-zoo1/lib/python3.7/site-packages/sklearn/utils/validation.py:1692: FutureWarning: Feature names only support names that are all strings. Got feature names with dtypes: ['int', 'str']. An error will be raised in 1.2.\n",
      "  FutureWarning,\n",
      "/Users/chenyanhui/opt/anaconda3/envs/data-zoo1/lib/python3.7/site-packages/sklearn/utils/validation.py:1692: FutureWarning: Feature names only support names that are all strings. Got feature names with dtypes: ['int', 'str']. An error will be raised in 1.2.\n",
      "  FutureWarning,\n",
      "/Users/chenyanhui/opt/anaconda3/envs/data-zoo1/lib/python3.7/site-packages/sklearn/utils/validation.py:1692: FutureWarning: Feature names only support names that are all strings. Got feature names with dtypes: ['int', 'str']. An error will be raised in 1.2.\n",
      "  FutureWarning,\n",
      "/Users/chenyanhui/opt/anaconda3/envs/data-zoo1/lib/python3.7/site-packages/sklearn/utils/validation.py:1692: FutureWarning: Feature names only support names that are all strings. Got feature names with dtypes: ['int', 'str']. An error will be raised in 1.2.\n",
      "  FutureWarning,\n",
      "/Users/chenyanhui/opt/anaconda3/envs/data-zoo1/lib/python3.7/site-packages/sklearn/utils/validation.py:1692: FutureWarning: Feature names only support names that are all strings. Got feature names with dtypes: ['int', 'str']. An error will be raised in 1.2.\n",
      "  FutureWarning,\n",
      "/Users/chenyanhui/opt/anaconda3/envs/data-zoo1/lib/python3.7/site-packages/sklearn/utils/validation.py:1692: FutureWarning: Feature names only support names that are all strings. Got feature names with dtypes: ['int', 'str']. An error will be raised in 1.2.\n",
      "  FutureWarning,\n",
      "/Users/chenyanhui/opt/anaconda3/envs/data-zoo1/lib/python3.7/site-packages/sklearn/utils/validation.py:1692: FutureWarning: Feature names only support names that are all strings. Got feature names with dtypes: ['int', 'str']. An error will be raised in 1.2.\n",
      "  FutureWarning,\n",
      "/Users/chenyanhui/opt/anaconda3/envs/data-zoo1/lib/python3.7/site-packages/sklearn/utils/validation.py:1692: FutureWarning: Feature names only support names that are all strings. Got feature names with dtypes: ['int', 'str']. An error will be raised in 1.2.\n",
      "  FutureWarning,\n",
      "/Users/chenyanhui/opt/anaconda3/envs/data-zoo1/lib/python3.7/site-packages/sklearn/utils/validation.py:1692: FutureWarning: Feature names only support names that are all strings. Got feature names with dtypes: ['int', 'str']. An error will be raised in 1.2.\n",
      "  FutureWarning,\n",
      "/Users/chenyanhui/opt/anaconda3/envs/data-zoo1/lib/python3.7/site-packages/sklearn/utils/validation.py:1692: FutureWarning: Feature names only support names that are all strings. Got feature names with dtypes: ['int', 'str']. An error will be raised in 1.2.\n",
      "  FutureWarning,\n"
     ]
    },
    {
     "name": "stdout",
     "output_type": "stream",
     "text": [
      "[CV] END ......bootstrap=True, max_depth=10, n_estimators=25; total time=   1.1s\n",
      "[CV] END .....bootstrap=True, max_depth=10, n_estimators=100; total time=   1.6s\n",
      "[CV] END ......bootstrap=True, max_depth=50, n_estimators=25; total time=   1.3s\n",
      "[CV] END ......bootstrap=True, max_depth=50, n_estimators=50; total time=   2.1s\n",
      "[CV] END .....bootstrap=True, max_depth=50, n_estimators=100; total time=   3.3s\n",
      "[CV] END .....bootstrap=True, max_depth=100, n_estimators=25; total time=   1.5s\n",
      "[CV] END .....bootstrap=True, max_depth=100, n_estimators=50; total time=   2.1s\n",
      "[CV] END ....bootstrap=True, max_depth=100, n_estimators=100; total time=   3.4s\n",
      "[CV] END ....bootstrap=True, max_depth=100, n_estimators=500; total time=  14.0s\n",
      "[CV] END ......bootstrap=True, max_depth=10, n_estimators=25; total time=   1.0s\n",
      "[CV] END .....bootstrap=True, max_depth=10, n_estimators=100; total time=   1.6s\n",
      "[CV] END ......bootstrap=True, max_depth=50, n_estimators=25; total time=   1.4s\n",
      "[CV] END ......bootstrap=True, max_depth=50, n_estimators=50; total time=   2.0s\n",
      "[CV] END .....bootstrap=True, max_depth=50, n_estimators=100; total time=   3.3s\n",
      "[CV] END .....bootstrap=True, max_depth=100, n_estimators=25; total time=   1.5s\n",
      "[CV] END .....bootstrap=True, max_depth=100, n_estimators=50; total time=   2.1s\n",
      "[CV] END ....bootstrap=True, max_depth=100, n_estimators=100; total time=   3.5s\n",
      "[CV] END ....bootstrap=True, max_depth=100, n_estimators=500; total time=  14.1s\n"
     ]
    },
    {
     "name": "stderr",
     "output_type": "stream",
     "text": [
      "/Users/chenyanhui/opt/anaconda3/envs/data-zoo1/lib/python3.7/site-packages/sklearn/utils/validation.py:1692: FutureWarning: Feature names only support names that are all strings. Got feature names with dtypes: ['int', 'str']. An error will be raised in 1.2.\n",
      "  FutureWarning,\n",
      "/Users/chenyanhui/opt/anaconda3/envs/data-zoo1/lib/python3.7/site-packages/sklearn/utils/validation.py:1692: FutureWarning: Feature names only support names that are all strings. Got feature names with dtypes: ['int', 'str']. An error will be raised in 1.2.\n",
      "  FutureWarning,\n",
      "/Users/chenyanhui/opt/anaconda3/envs/data-zoo1/lib/python3.7/site-packages/sklearn/utils/validation.py:1692: FutureWarning: Feature names only support names that are all strings. Got feature names with dtypes: ['int', 'str']. An error will be raised in 1.2.\n",
      "  FutureWarning,\n",
      "/Users/chenyanhui/opt/anaconda3/envs/data-zoo1/lib/python3.7/site-packages/sklearn/utils/validation.py:1692: FutureWarning: Feature names only support names that are all strings. Got feature names with dtypes: ['int', 'str']. An error will be raised in 1.2.\n",
      "  FutureWarning,\n",
      "/Users/chenyanhui/opt/anaconda3/envs/data-zoo1/lib/python3.7/site-packages/sklearn/utils/validation.py:1692: FutureWarning: Feature names only support names that are all strings. Got feature names with dtypes: ['int', 'str']. An error will be raised in 1.2.\n",
      "  FutureWarning,\n",
      "/Users/chenyanhui/opt/anaconda3/envs/data-zoo1/lib/python3.7/site-packages/sklearn/utils/validation.py:1692: FutureWarning: Feature names only support names that are all strings. Got feature names with dtypes: ['int', 'str']. An error will be raised in 1.2.\n",
      "  FutureWarning,\n",
      "/Users/chenyanhui/opt/anaconda3/envs/data-zoo1/lib/python3.7/site-packages/sklearn/utils/validation.py:1692: FutureWarning: Feature names only support names that are all strings. Got feature names with dtypes: ['int', 'str']. An error will be raised in 1.2.\n",
      "  FutureWarning,\n",
      "/Users/chenyanhui/opt/anaconda3/envs/data-zoo1/lib/python3.7/site-packages/sklearn/utils/validation.py:1692: FutureWarning: Feature names only support names that are all strings. Got feature names with dtypes: ['int', 'str']. An error will be raised in 1.2.\n",
      "  FutureWarning,\n",
      "/Users/chenyanhui/opt/anaconda3/envs/data-zoo1/lib/python3.7/site-packages/sklearn/utils/validation.py:1692: FutureWarning: Feature names only support names that are all strings. Got feature names with dtypes: ['int', 'str']. An error will be raised in 1.2.\n",
      "  FutureWarning,\n",
      "/Users/chenyanhui/opt/anaconda3/envs/data-zoo1/lib/python3.7/site-packages/sklearn/utils/validation.py:1692: FutureWarning: Feature names only support names that are all strings. Got feature names with dtypes: ['int', 'str']. An error will be raised in 1.2.\n",
      "  FutureWarning,\n",
      "/Users/chenyanhui/opt/anaconda3/envs/data-zoo1/lib/python3.7/site-packages/sklearn/utils/validation.py:1692: FutureWarning: Feature names only support names that are all strings. Got feature names with dtypes: ['int', 'str']. An error will be raised in 1.2.\n",
      "  FutureWarning,\n",
      "/Users/chenyanhui/opt/anaconda3/envs/data-zoo1/lib/python3.7/site-packages/sklearn/utils/validation.py:1692: FutureWarning: Feature names only support names that are all strings. Got feature names with dtypes: ['int', 'str']. An error will be raised in 1.2.\n",
      "  FutureWarning,\n",
      "/Users/chenyanhui/opt/anaconda3/envs/data-zoo1/lib/python3.7/site-packages/sklearn/utils/validation.py:1692: FutureWarning: Feature names only support names that are all strings. Got feature names with dtypes: ['int', 'str']. An error will be raised in 1.2.\n",
      "  FutureWarning,\n",
      "/Users/chenyanhui/opt/anaconda3/envs/data-zoo1/lib/python3.7/site-packages/sklearn/utils/validation.py:1692: FutureWarning: Feature names only support names that are all strings. Got feature names with dtypes: ['int', 'str']. An error will be raised in 1.2.\n",
      "  FutureWarning,\n",
      "/Users/chenyanhui/opt/anaconda3/envs/data-zoo1/lib/python3.7/site-packages/sklearn/utils/validation.py:1692: FutureWarning: Feature names only support names that are all strings. Got feature names with dtypes: ['int', 'str']. An error will be raised in 1.2.\n",
      "  FutureWarning,\n",
      "/Users/chenyanhui/opt/anaconda3/envs/data-zoo1/lib/python3.7/site-packages/sklearn/utils/validation.py:1692: FutureWarning: Feature names only support names that are all strings. Got feature names with dtypes: ['int', 'str']. An error will be raised in 1.2.\n",
      "  FutureWarning,\n",
      "/Users/chenyanhui/opt/anaconda3/envs/data-zoo1/lib/python3.7/site-packages/sklearn/utils/validation.py:1692: FutureWarning: Feature names only support names that are all strings. Got feature names with dtypes: ['int', 'str']. An error will be raised in 1.2.\n",
      "  FutureWarning,\n",
      "/Users/chenyanhui/opt/anaconda3/envs/data-zoo1/lib/python3.7/site-packages/sklearn/utils/validation.py:1692: FutureWarning: Feature names only support names that are all strings. Got feature names with dtypes: ['int', 'str']. An error will be raised in 1.2.\n",
      "  FutureWarning,\n",
      "/Users/chenyanhui/opt/anaconda3/envs/data-zoo1/lib/python3.7/site-packages/sklearn/utils/validation.py:1692: FutureWarning: Feature names only support names that are all strings. Got feature names with dtypes: ['int', 'str']. An error will be raised in 1.2.\n",
      "  FutureWarning,\n",
      "/Users/chenyanhui/opt/anaconda3/envs/data-zoo1/lib/python3.7/site-packages/sklearn/utils/validation.py:1692: FutureWarning: Feature names only support names that are all strings. Got feature names with dtypes: ['int', 'str']. An error will be raised in 1.2.\n",
      "  FutureWarning,\n",
      "/Users/chenyanhui/opt/anaconda3/envs/data-zoo1/lib/python3.7/site-packages/sklearn/utils/validation.py:1692: FutureWarning: Feature names only support names that are all strings. Got feature names with dtypes: ['int', 'str']. An error will be raised in 1.2.\n",
      "  FutureWarning,\n",
      "/Users/chenyanhui/opt/anaconda3/envs/data-zoo1/lib/python3.7/site-packages/sklearn/utils/validation.py:1692: FutureWarning: Feature names only support names that are all strings. Got feature names with dtypes: ['int', 'str']. An error will be raised in 1.2.\n",
      "  FutureWarning,\n",
      "/Users/chenyanhui/opt/anaconda3/envs/data-zoo1/lib/python3.7/site-packages/sklearn/utils/validation.py:1692: FutureWarning: Feature names only support names that are all strings. Got feature names with dtypes: ['int', 'str']. An error will be raised in 1.2.\n",
      "  FutureWarning,\n",
      "/Users/chenyanhui/opt/anaconda3/envs/data-zoo1/lib/python3.7/site-packages/sklearn/utils/validation.py:1692: FutureWarning: Feature names only support names that are all strings. Got feature names with dtypes: ['int', 'str']. An error will be raised in 1.2.\n",
      "  FutureWarning,\n",
      "/Users/chenyanhui/opt/anaconda3/envs/data-zoo1/lib/python3.7/site-packages/sklearn/utils/validation.py:1692: FutureWarning: Feature names only support names that are all strings. Got feature names with dtypes: ['int', 'str']. An error will be raised in 1.2.\n",
      "  FutureWarning,\n",
      "/Users/chenyanhui/opt/anaconda3/envs/data-zoo1/lib/python3.7/site-packages/sklearn/utils/validation.py:1692: FutureWarning: Feature names only support names that are all strings. Got feature names with dtypes: ['int', 'str']. An error will be raised in 1.2.\n",
      "  FutureWarning,\n",
      "/Users/chenyanhui/opt/anaconda3/envs/data-zoo1/lib/python3.7/site-packages/sklearn/utils/validation.py:1692: FutureWarning: Feature names only support names that are all strings. Got feature names with dtypes: ['int', 'str']. An error will be raised in 1.2.\n",
      "  FutureWarning,\n",
      "/Users/chenyanhui/opt/anaconda3/envs/data-zoo1/lib/python3.7/site-packages/sklearn/utils/validation.py:1692: FutureWarning: Feature names only support names that are all strings. Got feature names with dtypes: ['int', 'str']. An error will be raised in 1.2.\n",
      "  FutureWarning,\n",
      "/Users/chenyanhui/opt/anaconda3/envs/data-zoo1/lib/python3.7/site-packages/sklearn/utils/validation.py:1692: FutureWarning: Feature names only support names that are all strings. Got feature names with dtypes: ['int', 'str']. An error will be raised in 1.2.\n",
      "  FutureWarning,\n",
      "/Users/chenyanhui/opt/anaconda3/envs/data-zoo1/lib/python3.7/site-packages/sklearn/utils/validation.py:1692: FutureWarning: Feature names only support names that are all strings. Got feature names with dtypes: ['int', 'str']. An error will be raised in 1.2.\n",
      "  FutureWarning,\n",
      "/Users/chenyanhui/opt/anaconda3/envs/data-zoo1/lib/python3.7/site-packages/sklearn/utils/validation.py:1692: FutureWarning: Feature names only support names that are all strings. Got feature names with dtypes: ['int', 'str']. An error will be raised in 1.2.\n",
      "  FutureWarning,\n",
      "/Users/chenyanhui/opt/anaconda3/envs/data-zoo1/lib/python3.7/site-packages/sklearn/utils/validation.py:1692: FutureWarning: Feature names only support names that are all strings. Got feature names with dtypes: ['int', 'str']. An error will be raised in 1.2.\n",
      "  FutureWarning,\n",
      "/Users/chenyanhui/opt/anaconda3/envs/data-zoo1/lib/python3.7/site-packages/sklearn/utils/validation.py:1692: FutureWarning: Feature names only support names that are all strings. Got feature names with dtypes: ['int', 'str']. An error will be raised in 1.2.\n",
      "  FutureWarning,\n",
      "/Users/chenyanhui/opt/anaconda3/envs/data-zoo1/lib/python3.7/site-packages/sklearn/utils/validation.py:1692: FutureWarning: Feature names only support names that are all strings. Got feature names with dtypes: ['int', 'str']. An error will be raised in 1.2.\n",
      "  FutureWarning,\n",
      "/Users/chenyanhui/opt/anaconda3/envs/data-zoo1/lib/python3.7/site-packages/sklearn/utils/validation.py:1692: FutureWarning: Feature names only support names that are all strings. Got feature names with dtypes: ['int', 'str']. An error will be raised in 1.2.\n",
      "  FutureWarning,\n",
      "/Users/chenyanhui/opt/anaconda3/envs/data-zoo1/lib/python3.7/site-packages/sklearn/utils/validation.py:1692: FutureWarning: Feature names only support names that are all strings. Got feature names with dtypes: ['int', 'str']. An error will be raised in 1.2.\n",
      "  FutureWarning,\n"
     ]
    },
    {
     "name": "stdout",
     "output_type": "stream",
     "text": [
      "[CV] END ......bootstrap=True, max_depth=10, n_estimators=50; total time=   1.3s\n",
      "[CV] END .....bootstrap=True, max_depth=10, n_estimators=500; total time=   4.8s\n",
      "[CV] END .....bootstrap=True, max_depth=50, n_estimators=100; total time=   3.4s\n",
      "[CV] END .....bootstrap=True, max_depth=100, n_estimators=25; total time=   1.6s\n",
      "[CV] END .....bootstrap=True, max_depth=100, n_estimators=50; total time=   2.2s\n",
      "[CV] END ....bootstrap=True, max_depth=100, n_estimators=100; total time=   3.5s\n",
      "[CV] END ....bootstrap=True, max_depth=100, n_estimators=500; total time=  13.8s\n"
     ]
    },
    {
     "name": "stderr",
     "output_type": "stream",
     "text": [
      "/Users/chenyanhui/opt/anaconda3/envs/data-zoo1/lib/python3.7/site-packages/sklearn/utils/validation.py:1692: FutureWarning: Feature names only support names that are all strings. Got feature names with dtypes: ['int', 'str']. An error will be raised in 1.2.\n",
      "  FutureWarning,\n",
      "/Users/chenyanhui/opt/anaconda3/envs/data-zoo1/lib/python3.7/site-packages/sklearn/utils/validation.py:1692: FutureWarning: Feature names only support names that are all strings. Got feature names with dtypes: ['int', 'str']. An error will be raised in 1.2.\n",
      "  FutureWarning,\n",
      "/Users/chenyanhui/opt/anaconda3/envs/data-zoo1/lib/python3.7/site-packages/sklearn/utils/validation.py:1692: FutureWarning: Feature names only support names that are all strings. Got feature names with dtypes: ['int', 'str']. An error will be raised in 1.2.\n",
      "  FutureWarning,\n",
      "/Users/chenyanhui/opt/anaconda3/envs/data-zoo1/lib/python3.7/site-packages/sklearn/utils/validation.py:1692: FutureWarning: Feature names only support names that are all strings. Got feature names with dtypes: ['int', 'str']. An error will be raised in 1.2.\n",
      "  FutureWarning,\n",
      "/Users/chenyanhui/opt/anaconda3/envs/data-zoo1/lib/python3.7/site-packages/sklearn/utils/validation.py:1692: FutureWarning: Feature names only support names that are all strings. Got feature names with dtypes: ['int', 'str']. An error will be raised in 1.2.\n",
      "  FutureWarning,\n",
      "/Users/chenyanhui/opt/anaconda3/envs/data-zoo1/lib/python3.7/site-packages/sklearn/utils/validation.py:1692: FutureWarning: Feature names only support names that are all strings. Got feature names with dtypes: ['int', 'str']. An error will be raised in 1.2.\n",
      "  FutureWarning,\n",
      "/Users/chenyanhui/opt/anaconda3/envs/data-zoo1/lib/python3.7/site-packages/sklearn/utils/validation.py:1692: FutureWarning: Feature names only support names that are all strings. Got feature names with dtypes: ['int', 'str']. An error will be raised in 1.2.\n",
      "  FutureWarning,\n",
      "/Users/chenyanhui/opt/anaconda3/envs/data-zoo1/lib/python3.7/site-packages/sklearn/utils/validation.py:1692: FutureWarning: Feature names only support names that are all strings. Got feature names with dtypes: ['int', 'str']. An error will be raised in 1.2.\n",
      "  FutureWarning,\n",
      "/Users/chenyanhui/opt/anaconda3/envs/data-zoo1/lib/python3.7/site-packages/sklearn/utils/validation.py:1692: FutureWarning: Feature names only support names that are all strings. Got feature names with dtypes: ['int', 'str']. An error will be raised in 1.2.\n",
      "  FutureWarning,\n",
      "/Users/chenyanhui/opt/anaconda3/envs/data-zoo1/lib/python3.7/site-packages/sklearn/utils/validation.py:1692: FutureWarning: Feature names only support names that are all strings. Got feature names with dtypes: ['int', 'str']. An error will be raised in 1.2.\n",
      "  FutureWarning,\n",
      "/Users/chenyanhui/opt/anaconda3/envs/data-zoo1/lib/python3.7/site-packages/sklearn/utils/validation.py:1692: FutureWarning: Feature names only support names that are all strings. Got feature names with dtypes: ['int', 'str']. An error will be raised in 1.2.\n",
      "  FutureWarning,\n",
      "/Users/chenyanhui/opt/anaconda3/envs/data-zoo1/lib/python3.7/site-packages/sklearn/utils/validation.py:1692: FutureWarning: Feature names only support names that are all strings. Got feature names with dtypes: ['int', 'str']. An error will be raised in 1.2.\n",
      "  FutureWarning,\n",
      "/Users/chenyanhui/opt/anaconda3/envs/data-zoo1/lib/python3.7/site-packages/sklearn/utils/validation.py:1692: FutureWarning: Feature names only support names that are all strings. Got feature names with dtypes: ['int', 'str']. An error will be raised in 1.2.\n",
      "  FutureWarning,\n",
      "/Users/chenyanhui/opt/anaconda3/envs/data-zoo1/lib/python3.7/site-packages/sklearn/utils/validation.py:1692: FutureWarning: Feature names only support names that are all strings. Got feature names with dtypes: ['int', 'str']. An error will be raised in 1.2.\n",
      "  FutureWarning,\n"
     ]
    },
    {
     "name": "stdout",
     "output_type": "stream",
     "text": [
      "[CV] END ......bootstrap=True, max_depth=10, n_estimators=25; total time=   1.1s\n",
      "[CV] END .....bootstrap=True, max_depth=10, n_estimators=100; total time=   1.6s\n",
      "[CV] END ......bootstrap=True, max_depth=50, n_estimators=25; total time=   1.4s\n",
      "[CV] END ......bootstrap=True, max_depth=50, n_estimators=50; total time=   2.1s\n",
      "[CV] END .....bootstrap=True, max_depth=50, n_estimators=500; total time=  13.3s\n",
      "[CV] END .....bootstrap=True, max_depth=250, n_estimators=25; total time=   1.5s\n",
      "[CV] END .....bootstrap=True, max_depth=250, n_estimators=50; total time=   2.1s\n",
      "[CV] END ....bootstrap=True, max_depth=250, n_estimators=100; total time=   3.3s\n",
      "[CV] END ....bootstrap=True, max_depth=250, n_estimators=500; total time=  11.9s\n",
      "[CV] END ......bootstrap=True, max_depth=10, n_estimators=50; total time=   1.4s\n",
      "[CV] END .....bootstrap=True, max_depth=10, n_estimators=500; total time=   4.8s\n",
      "[CV] END .....bootstrap=True, max_depth=50, n_estimators=500; total time=  13.4s\n",
      "[CV] END .....bootstrap=True, max_depth=250, n_estimators=25; total time=   1.4s\n",
      "[CV] END .....bootstrap=True, max_depth=250, n_estimators=50; total time=   2.2s\n",
      "[CV] END ....bootstrap=True, max_depth=250, n_estimators=100; total time=   3.4s\n",
      "[CV] END ....bootstrap=True, max_depth=250, n_estimators=500; total time=  11.9s\n"
     ]
    },
    {
     "name": "stderr",
     "output_type": "stream",
     "text": [
      "/Users/chenyanhui/opt/anaconda3/envs/data-zoo1/lib/python3.7/site-packages/sklearn/utils/validation.py:1692: FutureWarning: Feature names only support names that are all strings. Got feature names with dtypes: ['int', 'str']. An error will be raised in 1.2.\n",
      "  FutureWarning,\n",
      "/Users/chenyanhui/opt/anaconda3/envs/data-zoo1/lib/python3.7/site-packages/sklearn/utils/validation.py:1692: FutureWarning: Feature names only support names that are all strings. Got feature names with dtypes: ['int', 'str']. An error will be raised in 1.2.\n",
      "  FutureWarning,\n",
      "/Users/chenyanhui/opt/anaconda3/envs/data-zoo1/lib/python3.7/site-packages/sklearn/utils/validation.py:1692: FutureWarning: Feature names only support names that are all strings. Got feature names with dtypes: ['int', 'str']. An error will be raised in 1.2.\n",
      "  FutureWarning,\n",
      "/Users/chenyanhui/opt/anaconda3/envs/data-zoo1/lib/python3.7/site-packages/sklearn/utils/validation.py:1692: FutureWarning: Feature names only support names that are all strings. Got feature names with dtypes: ['int', 'str']. An error will be raised in 1.2.\n",
      "  FutureWarning,\n",
      "/Users/chenyanhui/opt/anaconda3/envs/data-zoo1/lib/python3.7/site-packages/sklearn/utils/validation.py:1692: FutureWarning: Feature names only support names that are all strings. Got feature names with dtypes: ['int', 'str']. An error will be raised in 1.2.\n",
      "  FutureWarning,\n",
      "/Users/chenyanhui/opt/anaconda3/envs/data-zoo1/lib/python3.7/site-packages/sklearn/utils/validation.py:1692: FutureWarning: Feature names only support names that are all strings. Got feature names with dtypes: ['int', 'str']. An error will be raised in 1.2.\n",
      "  FutureWarning,\n",
      "/Users/chenyanhui/opt/anaconda3/envs/data-zoo1/lib/python3.7/site-packages/sklearn/utils/validation.py:1692: FutureWarning: Feature names only support names that are all strings. Got feature names with dtypes: ['int', 'str']. An error will be raised in 1.2.\n",
      "  FutureWarning,\n",
      "/Users/chenyanhui/opt/anaconda3/envs/data-zoo1/lib/python3.7/site-packages/sklearn/utils/validation.py:1692: FutureWarning: Feature names only support names that are all strings. Got feature names with dtypes: ['int', 'str']. An error will be raised in 1.2.\n",
      "  FutureWarning,\n",
      "/Users/chenyanhui/opt/anaconda3/envs/data-zoo1/lib/python3.7/site-packages/sklearn/utils/validation.py:1692: FutureWarning: Feature names only support names that are all strings. Got feature names with dtypes: ['int', 'str']. An error will be raised in 1.2.\n",
      "  FutureWarning,\n",
      "/Users/chenyanhui/opt/anaconda3/envs/data-zoo1/lib/python3.7/site-packages/sklearn/utils/validation.py:1692: FutureWarning: Feature names only support names that are all strings. Got feature names with dtypes: ['int', 'str']. An error will be raised in 1.2.\n",
      "  FutureWarning,\n",
      "/Users/chenyanhui/opt/anaconda3/envs/data-zoo1/lib/python3.7/site-packages/sklearn/utils/validation.py:1692: FutureWarning: Feature names only support names that are all strings. Got feature names with dtypes: ['int', 'str']. An error will be raised in 1.2.\n",
      "  FutureWarning,\n",
      "/Users/chenyanhui/opt/anaconda3/envs/data-zoo1/lib/python3.7/site-packages/sklearn/utils/validation.py:1692: FutureWarning: Feature names only support names that are all strings. Got feature names with dtypes: ['int', 'str']. An error will be raised in 1.2.\n",
      "  FutureWarning,\n",
      "/Users/chenyanhui/opt/anaconda3/envs/data-zoo1/lib/python3.7/site-packages/sklearn/utils/validation.py:1692: FutureWarning: Feature names only support names that are all strings. Got feature names with dtypes: ['int', 'str']. An error will be raised in 1.2.\n",
      "  FutureWarning,\n",
      "/Users/chenyanhui/opt/anaconda3/envs/data-zoo1/lib/python3.7/site-packages/sklearn/utils/validation.py:1692: FutureWarning: Feature names only support names that are all strings. Got feature names with dtypes: ['int', 'str']. An error will be raised in 1.2.\n",
      "  FutureWarning,\n",
      "/Users/chenyanhui/opt/anaconda3/envs/data-zoo1/lib/python3.7/site-packages/sklearn/utils/validation.py:1692: FutureWarning: Feature names only support names that are all strings. Got feature names with dtypes: ['int', 'str']. An error will be raised in 1.2.\n",
      "  FutureWarning,\n",
      "/Users/chenyanhui/opt/anaconda3/envs/data-zoo1/lib/python3.7/site-packages/sklearn/utils/validation.py:1692: FutureWarning: Feature names only support names that are all strings. Got feature names with dtypes: ['int', 'str']. An error will be raised in 1.2.\n",
      "  FutureWarning,\n",
      "/Users/chenyanhui/opt/anaconda3/envs/data-zoo1/lib/python3.7/site-packages/sklearn/utils/validation.py:1692: FutureWarning: Feature names only support names that are all strings. Got feature names with dtypes: ['int', 'str']. An error will be raised in 1.2.\n",
      "  FutureWarning,\n",
      "/Users/chenyanhui/opt/anaconda3/envs/data-zoo1/lib/python3.7/site-packages/sklearn/utils/validation.py:1692: FutureWarning: Feature names only support names that are all strings. Got feature names with dtypes: ['int', 'str']. An error will be raised in 1.2.\n",
      "  FutureWarning,\n",
      "/Users/chenyanhui/opt/anaconda3/envs/data-zoo1/lib/python3.7/site-packages/sklearn/utils/validation.py:1692: FutureWarning: Feature names only support names that are all strings. Got feature names with dtypes: ['int', 'str']. An error will be raised in 1.2.\n",
      "  FutureWarning,\n",
      "/Users/chenyanhui/opt/anaconda3/envs/data-zoo1/lib/python3.7/site-packages/sklearn/utils/validation.py:1692: FutureWarning: Feature names only support names that are all strings. Got feature names with dtypes: ['int', 'str']. An error will be raised in 1.2.\n",
      "  FutureWarning,\n",
      "/Users/chenyanhui/opt/anaconda3/envs/data-zoo1/lib/python3.7/site-packages/sklearn/utils/validation.py:1692: FutureWarning: Feature names only support names that are all strings. Got feature names with dtypes: ['int', 'str']. An error will be raised in 1.2.\n",
      "  FutureWarning,\n",
      "/Users/chenyanhui/opt/anaconda3/envs/data-zoo1/lib/python3.7/site-packages/sklearn/utils/validation.py:1692: FutureWarning: Feature names only support names that are all strings. Got feature names with dtypes: ['int', 'str']. An error will be raised in 1.2.\n",
      "  FutureWarning,\n",
      "/Users/chenyanhui/opt/anaconda3/envs/data-zoo1/lib/python3.7/site-packages/sklearn/utils/validation.py:1692: FutureWarning: Feature names only support names that are all strings. Got feature names with dtypes: ['int', 'str']. An error will be raised in 1.2.\n",
      "  FutureWarning,\n",
      "/Users/chenyanhui/opt/anaconda3/envs/data-zoo1/lib/python3.7/site-packages/sklearn/utils/validation.py:1692: FutureWarning: Feature names only support names that are all strings. Got feature names with dtypes: ['int', 'str']. An error will be raised in 1.2.\n",
      "  FutureWarning,\n",
      "/Users/chenyanhui/opt/anaconda3/envs/data-zoo1/lib/python3.7/site-packages/sklearn/utils/validation.py:1692: FutureWarning: Feature names only support names that are all strings. Got feature names with dtypes: ['int', 'str']. An error will be raised in 1.2.\n",
      "  FutureWarning,\n",
      "/Users/chenyanhui/opt/anaconda3/envs/data-zoo1/lib/python3.7/site-packages/sklearn/utils/validation.py:1692: FutureWarning: Feature names only support names that are all strings. Got feature names with dtypes: ['int', 'str']. An error will be raised in 1.2.\n",
      "  FutureWarning,\n",
      "/Users/chenyanhui/opt/anaconda3/envs/data-zoo1/lib/python3.7/site-packages/sklearn/utils/validation.py:1692: FutureWarning: Feature names only support names that are all strings. Got feature names with dtypes: ['int', 'str']. An error will be raised in 1.2.\n",
      "  FutureWarning,\n",
      "/Users/chenyanhui/opt/anaconda3/envs/data-zoo1/lib/python3.7/site-packages/sklearn/utils/validation.py:1692: FutureWarning: Feature names only support names that are all strings. Got feature names with dtypes: ['int', 'str']. An error will be raised in 1.2.\n",
      "  FutureWarning,\n",
      "/Users/chenyanhui/opt/anaconda3/envs/data-zoo1/lib/python3.7/site-packages/sklearn/utils/validation.py:1692: FutureWarning: Feature names only support names that are all strings. Got feature names with dtypes: ['int', 'str']. An error will be raised in 1.2.\n",
      "  FutureWarning,\n",
      "/Users/chenyanhui/opt/anaconda3/envs/data-zoo1/lib/python3.7/site-packages/sklearn/utils/validation.py:1692: FutureWarning: Feature names only support names that are all strings. Got feature names with dtypes: ['int', 'str']. An error will be raised in 1.2.\n",
      "  FutureWarning,\n",
      "/Users/chenyanhui/opt/anaconda3/envs/data-zoo1/lib/python3.7/site-packages/sklearn/utils/validation.py:1692: FutureWarning: Feature names only support names that are all strings. Got feature names with dtypes: ['int', 'str']. An error will be raised in 1.2.\n",
      "  FutureWarning,\n",
      "/Users/chenyanhui/opt/anaconda3/envs/data-zoo1/lib/python3.7/site-packages/sklearn/utils/validation.py:1692: FutureWarning: Feature names only support names that are all strings. Got feature names with dtypes: ['int', 'str']. An error will be raised in 1.2.\n",
      "  FutureWarning,\n"
     ]
    },
    {
     "name": "stdout",
     "output_type": "stream",
     "text": [
      "[CV] END ......bootstrap=True, max_depth=10, n_estimators=25; total time=   1.1s\n",
      "[CV] END .....bootstrap=True, max_depth=10, n_estimators=100; total time=   1.8s\n",
      "[CV] END ......bootstrap=True, max_depth=50, n_estimators=25; total time=   1.5s\n",
      "[CV] END ......bootstrap=True, max_depth=50, n_estimators=50; total time=   2.1s\n",
      "[CV] END .....bootstrap=True, max_depth=50, n_estimators=500; total time=  13.3s\n",
      "[CV] END .....bootstrap=True, max_depth=250, n_estimators=25; total time=   1.4s\n",
      "[CV] END .....bootstrap=True, max_depth=250, n_estimators=50; total time=   2.2s\n",
      "[CV] END ....bootstrap=True, max_depth=250, n_estimators=100; total time=   3.4s\n",
      "[CV] END ....bootstrap=True, max_depth=250, n_estimators=500; total time=  12.0s\n"
     ]
    },
    {
     "name": "stderr",
     "output_type": "stream",
     "text": [
      "/Users/chenyanhui/opt/anaconda3/envs/data-zoo1/lib/python3.7/site-packages/sklearn/utils/validation.py:1692: FutureWarning: Feature names only support names that are all strings. Got feature names with dtypes: ['int', 'str']. An error will be raised in 1.2.\n",
      "  FutureWarning,\n",
      "/Users/chenyanhui/opt/anaconda3/envs/data-zoo1/lib/python3.7/site-packages/sklearn/utils/validation.py:1692: FutureWarning: Feature names only support names that are all strings. Got feature names with dtypes: ['int', 'str']. An error will be raised in 1.2.\n",
      "  FutureWarning,\n",
      "/Users/chenyanhui/opt/anaconda3/envs/data-zoo1/lib/python3.7/site-packages/sklearn/utils/validation.py:1692: FutureWarning: Feature names only support names that are all strings. Got feature names with dtypes: ['int', 'str']. An error will be raised in 1.2.\n",
      "  FutureWarning,\n",
      "/Users/chenyanhui/opt/anaconda3/envs/data-zoo1/lib/python3.7/site-packages/sklearn/utils/validation.py:1692: FutureWarning: Feature names only support names that are all strings. Got feature names with dtypes: ['int', 'str']. An error will be raised in 1.2.\n",
      "  FutureWarning,\n",
      "/Users/chenyanhui/opt/anaconda3/envs/data-zoo1/lib/python3.7/site-packages/sklearn/utils/validation.py:1692: FutureWarning: Feature names only support names that are all strings. Got feature names with dtypes: ['int', 'str']. An error will be raised in 1.2.\n",
      "  FutureWarning,\n",
      "/Users/chenyanhui/opt/anaconda3/envs/data-zoo1/lib/python3.7/site-packages/sklearn/utils/validation.py:1692: FutureWarning: Feature names only support names that are all strings. Got feature names with dtypes: ['int', 'str']. An error will be raised in 1.2.\n",
      "  FutureWarning,\n",
      "/Users/chenyanhui/opt/anaconda3/envs/data-zoo1/lib/python3.7/site-packages/sklearn/utils/validation.py:1692: FutureWarning: Feature names only support names that are all strings. Got feature names with dtypes: ['int', 'str']. An error will be raised in 1.2.\n",
      "  FutureWarning,\n",
      "/Users/chenyanhui/opt/anaconda3/envs/data-zoo1/lib/python3.7/site-packages/sklearn/utils/validation.py:1692: FutureWarning: Feature names only support names that are all strings. Got feature names with dtypes: ['int', 'str']. An error will be raised in 1.2.\n",
      "  FutureWarning,\n",
      "/Users/chenyanhui/opt/anaconda3/envs/data-zoo1/lib/python3.7/site-packages/sklearn/utils/validation.py:1692: FutureWarning: Feature names only support names that are all strings. Got feature names with dtypes: ['int', 'str']. An error will be raised in 1.2.\n",
      "  FutureWarning,\n",
      "/Users/chenyanhui/opt/anaconda3/envs/data-zoo1/lib/python3.7/site-packages/sklearn/utils/validation.py:1692: FutureWarning: Feature names only support names that are all strings. Got feature names with dtypes: ['int', 'str']. An error will be raised in 1.2.\n",
      "  FutureWarning,\n",
      "/Users/chenyanhui/opt/anaconda3/envs/data-zoo1/lib/python3.7/site-packages/sklearn/utils/validation.py:1692: FutureWarning: Feature names only support names that are all strings. Got feature names with dtypes: ['int', 'str']. An error will be raised in 1.2.\n",
      "  FutureWarning,\n",
      "/Users/chenyanhui/opt/anaconda3/envs/data-zoo1/lib/python3.7/site-packages/sklearn/utils/validation.py:1692: FutureWarning: Feature names only support names that are all strings. Got feature names with dtypes: ['int', 'str']. An error will be raised in 1.2.\n",
      "  FutureWarning,\n",
      "/Users/chenyanhui/opt/anaconda3/envs/data-zoo1/lib/python3.7/site-packages/sklearn/utils/validation.py:1692: FutureWarning: Feature names only support names that are all strings. Got feature names with dtypes: ['int', 'str']. An error will be raised in 1.2.\n",
      "  FutureWarning,\n",
      "/Users/chenyanhui/opt/anaconda3/envs/data-zoo1/lib/python3.7/site-packages/sklearn/utils/validation.py:1692: FutureWarning: Feature names only support names that are all strings. Got feature names with dtypes: ['int', 'str']. An error will be raised in 1.2.\n",
      "  FutureWarning,\n",
      "/Users/chenyanhui/opt/anaconda3/envs/data-zoo1/lib/python3.7/site-packages/sklearn/utils/validation.py:1692: FutureWarning: Feature names only support names that are all strings. Got feature names with dtypes: ['int', 'str']. An error will be raised in 1.2.\n",
      "  FutureWarning,\n",
      "/Users/chenyanhui/opt/anaconda3/envs/data-zoo1/lib/python3.7/site-packages/sklearn/utils/validation.py:1692: FutureWarning: Feature names only support names that are all strings. Got feature names with dtypes: ['int', 'str']. An error will be raised in 1.2.\n",
      "  FutureWarning,\n",
      "/Users/chenyanhui/opt/anaconda3/envs/data-zoo1/lib/python3.7/site-packages/sklearn/utils/validation.py:1692: FutureWarning: Feature names only support names that are all strings. Got feature names with dtypes: ['int', 'str']. An error will be raised in 1.2.\n",
      "  FutureWarning,\n",
      "/Users/chenyanhui/opt/anaconda3/envs/data-zoo1/lib/python3.7/site-packages/sklearn/utils/validation.py:1692: FutureWarning: Feature names only support names that are all strings. Got feature names with dtypes: ['int', 'str']. An error will be raised in 1.2.\n",
      "  FutureWarning,\n"
     ]
    },
    {
     "name": "stdout",
     "output_type": "stream",
     "text": [
      "[CV] END ......bootstrap=True, max_depth=10, n_estimators=50; total time=   1.4s\n",
      "[CV] END .....bootstrap=True, max_depth=10, n_estimators=500; total time=   5.0s\n",
      "[CV] END .....bootstrap=True, max_depth=50, n_estimators=500; total time=  13.4s\n",
      "[CV] END .....bootstrap=True, max_depth=250, n_estimators=25; total time=   1.5s\n",
      "[CV] END .....bootstrap=True, max_depth=250, n_estimators=50; total time=   2.3s\n",
      "[CV] END ....bootstrap=True, max_depth=250, n_estimators=100; total time=   3.6s\n",
      "[CV] END ....bootstrap=True, max_depth=250, n_estimators=500; total time=  11.7s\n",
      "[CV] END ......bootstrap=True, max_depth=10, n_estimators=50; total time=   1.4s\n",
      "[CV] END .....bootstrap=True, max_depth=10, n_estimators=500; total time=   4.9s\n",
      "[CV] END .....bootstrap=True, max_depth=50, n_estimators=500; total time=  13.5s\n",
      "[CV] END .....bootstrap=True, max_depth=250, n_estimators=25; total time=   1.5s\n",
      "[CV] END .....bootstrap=True, max_depth=250, n_estimators=50; total time=   2.4s\n",
      "[CV] END ....bootstrap=True, max_depth=250, n_estimators=100; total time=   3.4s\n",
      "[CV] END ....bootstrap=True, max_depth=250, n_estimators=500; total time=  11.8s\n"
     ]
    },
    {
     "name": "stderr",
     "output_type": "stream",
     "text": [
      "/Users/chenyanhui/opt/anaconda3/envs/data-zoo1/lib/python3.7/site-packages/sklearn/utils/validation.py:1692: FutureWarning: Feature names only support names that are all strings. Got feature names with dtypes: ['int', 'str']. An error will be raised in 1.2.\n",
      "  FutureWarning,\n",
      "/Users/chenyanhui/opt/anaconda3/envs/data-zoo1/lib/python3.7/site-packages/sklearn/utils/validation.py:1692: FutureWarning: Feature names only support names that are all strings. Got feature names with dtypes: ['int', 'str']. An error will be raised in 1.2.\n",
      "  FutureWarning,\n",
      "/Users/chenyanhui/opt/anaconda3/envs/data-zoo1/lib/python3.7/site-packages/sklearn/utils/validation.py:1692: FutureWarning: Feature names only support names that are all strings. Got feature names with dtypes: ['int', 'str']. An error will be raised in 1.2.\n",
      "  FutureWarning,\n",
      "/Users/chenyanhui/opt/anaconda3/envs/data-zoo1/lib/python3.7/site-packages/sklearn/utils/validation.py:1692: FutureWarning: Feature names only support names that are all strings. Got feature names with dtypes: ['int', 'str']. An error will be raised in 1.2.\n",
      "  FutureWarning,\n",
      "/Users/chenyanhui/opt/anaconda3/envs/data-zoo1/lib/python3.7/site-packages/sklearn/utils/validation.py:1692: FutureWarning: Feature names only support names that are all strings. Got feature names with dtypes: ['int', 'str']. An error will be raised in 1.2.\n",
      "  FutureWarning,\n",
      "/Users/chenyanhui/opt/anaconda3/envs/data-zoo1/lib/python3.7/site-packages/sklearn/utils/validation.py:1692: FutureWarning: Feature names only support names that are all strings. Got feature names with dtypes: ['int', 'str']. An error will be raised in 1.2.\n",
      "  FutureWarning,\n",
      "/Users/chenyanhui/opt/anaconda3/envs/data-zoo1/lib/python3.7/site-packages/sklearn/utils/validation.py:1692: FutureWarning: Feature names only support names that are all strings. Got feature names with dtypes: ['int', 'str']. An error will be raised in 1.2.\n",
      "  FutureWarning,\n",
      "/Users/chenyanhui/opt/anaconda3/envs/data-zoo1/lib/python3.7/site-packages/sklearn/utils/validation.py:1692: FutureWarning: Feature names only support names that are all strings. Got feature names with dtypes: ['int', 'str']. An error will be raised in 1.2.\n",
      "  FutureWarning,\n",
      "/Users/chenyanhui/opt/anaconda3/envs/data-zoo1/lib/python3.7/site-packages/sklearn/utils/validation.py:1692: FutureWarning: Feature names only support names that are all strings. Got feature names with dtypes: ['int', 'str']. An error will be raised in 1.2.\n",
      "  FutureWarning,\n",
      "/Users/chenyanhui/opt/anaconda3/envs/data-zoo1/lib/python3.7/site-packages/sklearn/utils/validation.py:1692: FutureWarning: Feature names only support names that are all strings. Got feature names with dtypes: ['int', 'str']. An error will be raised in 1.2.\n",
      "  FutureWarning,\n",
      "/Users/chenyanhui/opt/anaconda3/envs/data-zoo1/lib/python3.7/site-packages/sklearn/utils/validation.py:1692: FutureWarning: Feature names only support names that are all strings. Got feature names with dtypes: ['int', 'str']. An error will be raised in 1.2.\n",
      "  FutureWarning,\n",
      "/Users/chenyanhui/opt/anaconda3/envs/data-zoo1/lib/python3.7/site-packages/sklearn/utils/validation.py:1692: FutureWarning: Feature names only support names that are all strings. Got feature names with dtypes: ['int', 'str']. An error will be raised in 1.2.\n",
      "  FutureWarning,\n",
      "/Users/chenyanhui/opt/anaconda3/envs/data-zoo1/lib/python3.7/site-packages/sklearn/utils/validation.py:1692: FutureWarning: Feature names only support names that are all strings. Got feature names with dtypes: ['int', 'str']. An error will be raised in 1.2.\n",
      "  FutureWarning,\n",
      "/Users/chenyanhui/opt/anaconda3/envs/data-zoo1/lib/python3.7/site-packages/sklearn/utils/validation.py:1692: FutureWarning: Feature names only support names that are all strings. Got feature names with dtypes: ['int', 'str']. An error will be raised in 1.2.\n",
      "  FutureWarning,\n",
      "/Users/chenyanhui/opt/anaconda3/envs/data-zoo1/lib/python3.7/site-packages/sklearn/utils/validation.py:1692: FutureWarning: Feature names only support names that are all strings. Got feature names with dtypes: ['int', 'str']. An error will be raised in 1.2.\n",
      "  FutureWarning,\n",
      "/Users/chenyanhui/opt/anaconda3/envs/data-zoo1/lib/python3.7/site-packages/sklearn/utils/validation.py:1692: FutureWarning: Feature names only support names that are all strings. Got feature names with dtypes: ['int', 'str']. An error will be raised in 1.2.\n",
      "  FutureWarning,\n",
      "/Users/chenyanhui/opt/anaconda3/envs/data-zoo1/lib/python3.7/site-packages/sklearn/utils/validation.py:1692: FutureWarning: Feature names only support names that are all strings. Got feature names with dtypes: ['int', 'str']. An error will be raised in 1.2.\n",
      "  FutureWarning,\n",
      "/Users/chenyanhui/opt/anaconda3/envs/data-zoo1/lib/python3.7/site-packages/sklearn/utils/validation.py:1692: FutureWarning: Feature names only support names that are all strings. Got feature names with dtypes: ['int', 'str']. An error will be raised in 1.2.\n",
      "  FutureWarning,\n",
      "/Users/chenyanhui/opt/anaconda3/envs/data-zoo1/lib/python3.7/site-packages/sklearn/utils/validation.py:1692: FutureWarning: Feature names only support names that are all strings. Got feature names with dtypes: ['int', 'str']. An error will be raised in 1.2.\n",
      "  FutureWarning,\n",
      "/Users/chenyanhui/opt/anaconda3/envs/data-zoo1/lib/python3.7/site-packages/sklearn/utils/validation.py:1692: FutureWarning: Feature names only support names that are all strings. Got feature names with dtypes: ['int', 'str']. An error will be raised in 1.2.\n",
      "  FutureWarning,\n",
      "/Users/chenyanhui/opt/anaconda3/envs/data-zoo1/lib/python3.7/site-packages/sklearn/utils/validation.py:1692: FutureWarning: Feature names only support names that are all strings. Got feature names with dtypes: ['int', 'str']. An error will be raised in 1.2.\n",
      "  FutureWarning,\n",
      "/Users/chenyanhui/opt/anaconda3/envs/data-zoo1/lib/python3.7/site-packages/sklearn/utils/validation.py:1692: FutureWarning: Feature names only support names that are all strings. Got feature names with dtypes: ['int', 'str']. An error will be raised in 1.2.\n",
      "  FutureWarning,\n",
      "/Users/chenyanhui/opt/anaconda3/envs/data-zoo1/lib/python3.7/site-packages/sklearn/utils/validation.py:1692: FutureWarning: Feature names only support names that are all strings. Got feature names with dtypes: ['int', 'str']. An error will be raised in 1.2.\n",
      "  FutureWarning,\n",
      "/Users/chenyanhui/opt/anaconda3/envs/data-zoo1/lib/python3.7/site-packages/sklearn/utils/validation.py:1692: FutureWarning: Feature names only support names that are all strings. Got feature names with dtypes: ['int', 'str']. An error will be raised in 1.2.\n",
      "  FutureWarning,\n",
      "/Users/chenyanhui/opt/anaconda3/envs/data-zoo1/lib/python3.7/site-packages/sklearn/utils/validation.py:1692: FutureWarning: Feature names only support names that are all strings. Got feature names with dtypes: ['int', 'str']. An error will be raised in 1.2.\n",
      "  FutureWarning,\n",
      "/Users/chenyanhui/opt/anaconda3/envs/data-zoo1/lib/python3.7/site-packages/sklearn/utils/validation.py:1692: FutureWarning: Feature names only support names that are all strings. Got feature names with dtypes: ['int', 'str']. An error will be raised in 1.2.\n",
      "  FutureWarning,\n",
      "/Users/chenyanhui/opt/anaconda3/envs/data-zoo1/lib/python3.7/site-packages/sklearn/utils/validation.py:1692: FutureWarning: Feature names only support names that are all strings. Got feature names with dtypes: ['int', 'str']. An error will be raised in 1.2.\n",
      "  FutureWarning,\n",
      "/Users/chenyanhui/opt/anaconda3/envs/data-zoo1/lib/python3.7/site-packages/sklearn/utils/validation.py:1692: FutureWarning: Feature names only support names that are all strings. Got feature names with dtypes: ['int', 'str']. An error will be raised in 1.2.\n",
      "  FutureWarning,\n"
     ]
    }
   ],
   "source": [
    "dict_int_label = {\n",
    "    0: 'numeric',\n",
    "    1: 'categorical',\n",
    "    2: 'datetime',\n",
    "    3: 'sentence',\n",
    "    4: 'url',\n",
    "    5: 'embedded-number',\n",
    "    6: 'list',\n",
    "    7: 'not-generalizable',\n",
    "    8: 'context-specific'\n",
    "}\n",
    "\n",
    " \n",
    "for name, int_lable in zip(raw_data.columns, y_rf):\n",
    "    print(f'Column:  {name}\\nType: {dict_int_label[int_lable]}\\n')"
   ]
  },
  {
   "cell_type": "code",
   "execution_count": 45,
   "id": "37806456",
   "metadata": {},
   "outputs": [
    {
     "data": {
      "text/plain": [
       "Index(['total_vals', 'num_nans', '%_nans', 'num_of_dist_val', '%_dist_val',\n",
       "       'mean', 'std_dev', 'min_val', 'max_val', 'has_delimiters', 'has_url',\n",
       "       'has_email', 'has_date', 'mean_word_count', 'stdev_word_count',\n",
       "       'mean_stopword_total', 'stdev_stopword_total', 'mean_char_count',\n",
       "       'stdev_char_count', 'mean_whitespace_count', 'stdev_whitespace_count',\n",
       "       'mean_delim_count', 'stdev_delim_count', 'is_list', 'is_long_sentence'],\n",
       "      dtype='object')"
      ]
     },
     "execution_count": 45,
     "metadata": {},
     "output_type": "execute_result"
    }
   ],
   "source": [
    "data_featurized.columns[:25]"
   ]
  },
  {
   "cell_type": "code",
   "execution_count": 50,
   "id": "859b89c3",
   "metadata": {},
   "outputs": [
    {
     "data": {
      "text/plain": [
       "total_vals                     132\n",
       "num_nans                         0\n",
       "%_nans                    1.515152\n",
       "num_of_dist_val                  2\n",
       "%_dist_val                1.515152\n",
       "mean                           0.0\n",
       "std_dev                        0.0\n",
       "min_val                        0.0\n",
       "max_val                        0.0\n",
       "has_delimiters               False\n",
       "has_url                      False\n",
       "has_email                    False\n",
       "has_date                     False\n",
       "mean_word_count                1.0\n",
       "stdev_word_count               0.0\n",
       "mean_stopword_total            0.0\n",
       "stdev_stopword_total           0.0\n",
       "mean_char_count                2.6\n",
       "stdev_char_count          0.489898\n",
       "mean_whitespace_count          0.0\n",
       "stdev_whitespace_count         0.0\n",
       "mean_delim_count               0.0\n",
       "stdev_delim_count              0.0\n",
       "is_list                      False\n",
       "is_long_sentence             False\n",
       "Name: 1, dtype: object"
      ]
     },
     "execution_count": 50,
     "metadata": {},
     "output_type": "execute_result"
    }
   ],
   "source": [
    "df2 = data_featurized.iloc[1][:25]\n",
    "df2 "
   ]
  },
  {
   "cell_type": "code",
   "execution_count": 51,
   "id": "aec16467",
   "metadata": {},
   "outputs": [
    {
     "data": {
      "text/plain": [
       "{'total_vals': 132,\n",
       " 'num_nans': 0,\n",
       " '%_nans': 1.5151515151515151,\n",
       " 'num_of_dist_val': 2,\n",
       " '%_dist_val': 1.5151515151515151,\n",
       " 'mean': 0.0,\n",
       " 'std_dev': 0.0,\n",
       " 'min_val': 0.0,\n",
       " 'max_val': 0.0,\n",
       " 'has_delimiters': False,\n",
       " 'has_url': False,\n",
       " 'has_email': False,\n",
       " 'has_date': False,\n",
       " 'mean_word_count': 1.0,\n",
       " 'stdev_word_count': 0.0,\n",
       " 'mean_stopword_total': 0.0,\n",
       " 'stdev_stopword_total': 0.0,\n",
       " 'mean_char_count': 2.6,\n",
       " 'stdev_char_count': 0.4898979485566356,\n",
       " 'mean_whitespace_count': 0.0,\n",
       " 'stdev_whitespace_count': 0.0,\n",
       " 'mean_delim_count': 0.0,\n",
       " 'stdev_delim_count': 0.0,\n",
       " 'is_list': False,\n",
       " 'is_long_sentence': False}"
      ]
     },
     "execution_count": 51,
     "metadata": {},
     "output_type": "execute_result"
    }
   ],
   "source": [
    "df2.to_dict()"
   ]
  },
  {
   "cell_type": "code",
   "execution_count": null,
   "id": "1379cfd5",
   "metadata": {},
   "outputs": [],
   "source": []
  }
 ],
 "metadata": {
  "kernelspec": {
   "display_name": "Python 3 (ipykernel)",
   "language": "python",
   "name": "python3"
  },
  "language_info": {
   "codemirror_mode": {
    "name": "ipython",
    "version": 3
   },
   "file_extension": ".py",
   "mimetype": "text/x-python",
   "name": "python",
   "nbconvert_exporter": "python",
   "pygments_lexer": "ipython3",
   "version": "3.7.11"
  }
 },
 "nbformat": 4,
 "nbformat_minor": 5
}
